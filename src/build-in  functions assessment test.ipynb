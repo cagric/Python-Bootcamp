{
 "cells": [
  {
   "cell_type": "code",
   "execution_count": 4,
   "metadata": {
    "collapsed": false
   },
   "outputs": [
    {
     "data": {
      "text/plain": [
       "[3, 4, 3, 3, 5, 2]"
      ]
     },
     "execution_count": 4,
     "metadata": {},
     "output_type": "execute_result"
    }
   ],
   "source": [
    "def word_lengths(phrase):\n",
    "    words = phrase.split(' ')\n",
    "    return list(map(lambda w: len(w),words))\n",
    "\n",
    "word_lengths('How long are the words in')\n",
    "    \n",
    "    "
   ]
  },
  {
   "cell_type": "code",
   "execution_count": 27,
   "metadata": {
    "collapsed": false
   },
   "outputs": [
    {
     "data": {
      "text/plain": [
       "34321"
      ]
     },
     "execution_count": 27,
     "metadata": {},
     "output_type": "execute_result"
    }
   ],
   "source": [
    "from functools import reduce\n",
    "def digits_to_num(digits):\n",
    "    return reduce(lambda x,y:x*10+y,digits)\n",
    "digits_to_num([3,4,3,2,1])\n"
   ]
  },
  {
   "cell_type": "code",
   "execution_count": 16,
   "metadata": {
    "collapsed": false
   },
   "outputs": [
    {
     "data": {
      "text/plain": [
       "['hello', 'hamster', 'ham']"
      ]
     },
     "execution_count": 16,
     "metadata": {},
     "output_type": "execute_result"
    }
   ],
   "source": [
    "def filter_words(words,letter):\n",
    "    return list(filter(lambda word:word[0]==letter,words))\n",
    "\n",
    "words =['hello','are','cat','hamster','ham']\n",
    "filter_words(words,'h')"
   ]
  },
  {
   "cell_type": "code",
   "execution_count": 30,
   "metadata": {
    "collapsed": false
   },
   "outputs": [
    {
     "data": {
      "text/plain": [
       "['A-a', 'B-b']"
      ]
     },
     "execution_count": 30,
     "metadata": {},
     "output_type": "execute_result"
    }
   ],
   "source": [
    "def concatenate(l1,l2,connector):\n",
    "    return list(map(lambda pair: pair[0]+connector+pair[1], zip(l1,l2)))\n",
    "\n",
    "#or\n",
    "\n",
    "def concatenate2(l1,l2,connector):\n",
    "    return [word1+connector+word2 for (word1,word2) in zip(l1,l2)]\n",
    "\n",
    "concatenate2(['A','B'],['a','b'],'-')"
   ]
  },
  {
   "cell_type": "code",
   "execution_count": 37,
   "metadata": {
    "collapsed": false
   },
   "outputs": [
    {
     "data": {
      "text/plain": [
       "{'a': 0, 'b': 1, 'c': 2}"
      ]
     },
     "execution_count": 37,
     "metadata": {},
     "output_type": "execute_result"
    }
   ],
   "source": [
    "def d_list(l):\n",
    "    d={}\n",
    "    for index,item in enumerate(l):\n",
    "        d[item]=index\n",
    "    return d\n",
    "    \n",
    "# OR\n",
    "def d_list2(l):\n",
    "    return {key:value for value,key in enumerate(l) }\n",
    "    \n",
    "d_list2(['a','b','c'])"
   ]
  },
  {
   "cell_type": "code",
   "execution_count": 39,
   "metadata": {
    "collapsed": false
   },
   "outputs": [
    {
     "data": {
      "text/plain": [
       "4"
      ]
     },
     "execution_count": 39,
     "metadata": {},
     "output_type": "execute_result"
    }
   ],
   "source": [
    "def count_match_index(l):\n",
    "    return len([num for count,num in enumerate(l) if num==count])\n",
    "\n",
    "count_match_index([0,2,2,1,5,5,6,10])\n",
    "               "
   ]
  },
  {
   "cell_type": "code",
   "execution_count": null,
   "metadata": {
    "collapsed": true
   },
   "outputs": [],
   "source": []
  }
 ],
 "metadata": {
  "kernelspec": {
   "display_name": "Python 3",
   "language": "python",
   "name": "python3"
  },
  "language_info": {
   "codemirror_mode": {
    "name": "ipython",
    "version": 3
   },
   "file_extension": ".py",
   "mimetype": "text/x-python",
   "name": "python",
   "nbconvert_exporter": "python",
   "pygments_lexer": "ipython3",
   "version": "3.6.0"
  }
 },
 "nbformat": 4,
 "nbformat_minor": 2
}
