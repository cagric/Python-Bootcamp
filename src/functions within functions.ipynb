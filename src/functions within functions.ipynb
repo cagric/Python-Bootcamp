{
 "cells": [
  {
   "cell_type": "code",
   "execution_count": 1,
   "metadata": {
    "collapsed": false
   },
   "outputs": [
    {
     "name": "stdout",
     "output_type": "stream",
     "text": [
      "hello() function has been executed!\n",
      "\t This is inside the greet() function!\n",
      "\t This is inside the welcome() function!\n",
      "Now we are back inside the hello() function!\n"
     ]
    }
   ],
   "source": [
    "def hello(name='Jose'):\n",
    "    print('hello() function has been executed!')\n",
    "    \n",
    "    def greet():\n",
    "        return '\\t This is inside the greet() function!'\n",
    "    \n",
    "    def welcome():\n",
    "        return '\\t This is inside the welcome() function!'\n",
    "    \n",
    "    print(greet())\n",
    "    print(welcome())\n",
    "    print('Now we are back inside the hello() function!')\n",
    "\n",
    "hello()"
   ]
  },
  {
   "cell_type": "code",
   "execution_count": 4,
   "metadata": {
    "collapsed": false
   },
   "outputs": [
    {
     "name": "stdout",
     "output_type": "stream",
     "text": [
      "hello() function has been executed!\n"
     ]
    },
    {
     "data": {
      "text/plain": [
       "'\\t This is inside the greet() function!'"
      ]
     },
     "execution_count": 4,
     "metadata": {},
     "output_type": "execute_result"
    }
   ],
   "source": [
    "def hello(name='Jose'):\n",
    "    print('hello() function has been executed!')\n",
    "    \n",
    "    def greet():\n",
    "        return '\\t This is inside the greet() function!'\n",
    "    \n",
    "    def welcome():\n",
    "        return '\\t This is inside the welcome() function!'\n",
    "    \n",
    "    if name=='Jose':\n",
    "        return greet\n",
    "    else:\n",
    "        return welcome\n",
    "\n",
    "x = hello\n",
    "x('Jose')()"
   ]
  },
  {
   "cell_type": "code",
   "execution_count": null,
   "metadata": {
    "collapsed": true
   },
   "outputs": [],
   "source": []
  }
 ],
 "metadata": {
  "kernelspec": {
   "display_name": "Python 3",
   "language": "python",
   "name": "python3"
  },
  "language_info": {
   "codemirror_mode": {
    "name": "ipython",
    "version": 3
   },
   "file_extension": ".py",
   "mimetype": "text/x-python",
   "name": "python",
   "nbconvert_exporter": "python",
   "pygments_lexer": "ipython3",
   "version": "3.6.0"
  }
 },
 "nbformat": 4,
 "nbformat_minor": 2
}
