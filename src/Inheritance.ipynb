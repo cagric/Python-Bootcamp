{
 "cells": [
  {
   "cell_type": "code",
   "execution_count": 5,
   "metadata": {
    "collapsed": false
   },
   "outputs": [
    {
     "name": "stdout",
     "output_type": "stream",
     "text": [
      "__main__\n",
      "Animal was created!\n",
      "Dog was created\n",
      "Dog\n",
      "Eating\n"
     ]
    }
   ],
   "source": [
    "class Animal(object):\n",
    "    def __init__(self):\n",
    "        print('Animal was created!')\n",
    "        \n",
    "    def whoAmI(self):\n",
    "        print('Animal')\n",
    "    \n",
    "    def eat(self):\n",
    "        print('Eating')\n",
    "        \n",
    "class Dog(Animal):\n",
    "    def __init__(self):\n",
    "        Animal.__init__(self)\n",
    "        print('Dog was created')\n",
    "        \n",
    "    def whoAmI(self):\n",
    "        print('Dog')\n",
    "    \n",
    "    def bark(self):\n",
    "        print('Whoof')\n",
    "\n",
    "        \n",
    "d = Dog()\n",
    "d.whoAmI()\n",
    "d.eat()"
   ]
  },
  {
   "cell_type": "code",
   "execution_count": null,
   "metadata": {
    "collapsed": true
   },
   "outputs": [],
   "source": []
  }
 ],
 "metadata": {
  "kernelspec": {
   "display_name": "Python 3",
   "language": "python",
   "name": "python3"
  },
  "language_info": {
   "codemirror_mode": {
    "name": "ipython",
    "version": 3
   },
   "file_extension": ".py",
   "mimetype": "text/x-python",
   "name": "python",
   "nbconvert_exporter": "python",
   "pygments_lexer": "ipython3",
   "version": "3.6.0"
  }
 },
 "nbformat": 4,
 "nbformat_minor": 2
}
