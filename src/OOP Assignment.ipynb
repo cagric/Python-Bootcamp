{
 "cells": [
  {
   "cell_type": "code",
   "execution_count": 10,
   "metadata": {
    "collapsed": false
   },
   "outputs": [
    {
     "data": {
      "text/plain": [
       "1.6"
      ]
     },
     "execution_count": 10,
     "metadata": {},
     "output_type": "execute_result"
    }
   ],
   "source": [
    "class Line(object):\n",
    "    def __init__(self,point1,point2):\n",
    "        self.point1 = point1\n",
    "        self.point2 = point2\n",
    "    \n",
    "    def distance(self):\n",
    "        x2, y2 = self.point2\n",
    "        x1, y1 = self.point1\n",
    "        \n",
    "        return  (((x2-x1)**2)+((y2-y1)**2))**1/2\n",
    "        \n",
    "    def slope(self):\n",
    "        x2, y2 = self.point2\n",
    "        x1, y1 = self.point1\n",
    "        \n",
    "        return (y1-y2)/(x1-x2)\n",
    "        \n",
    "point1 = (3,2)\n",
    "point2 = (8,10)\n",
    "\n",
    "line = Line(point1, point2)\n",
    "line.slope()"
   ]
  },
  {
   "cell_type": "code",
   "execution_count": null,
   "metadata": {
    "collapsed": true
   },
   "outputs": [],
   "source": []
  }
 ],
 "metadata": {
  "kernelspec": {
   "display_name": "Python 3",
   "language": "python",
   "name": "python3"
  },
  "language_info": {
   "codemirror_mode": {
    "name": "ipython",
    "version": 3
   },
   "file_extension": ".py",
   "mimetype": "text/x-python",
   "name": "python",
   "nbconvert_exporter": "python",
   "pygments_lexer": "ipython3",
   "version": "3.6.0"
  }
 },
 "nbformat": 4,
 "nbformat_minor": 2
}
