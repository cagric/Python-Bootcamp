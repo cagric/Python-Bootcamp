{
 "cells": [
  {
   "cell_type": "code",
   "execution_count": 2,
   "metadata": {
    "collapsed": false
   },
   "outputs": [
    {
     "name": "stdout",
     "output_type": "stream",
     "text": [
      "Other function goes here!\n",
      "Hi Jose!\n",
      "None\n"
     ]
    }
   ],
   "source": [
    "def hello():\n",
    "    print('Hi Jose!')\n",
    "\n",
    "def other(func):\n",
    "    print('Other function goes here!')\n",
    "    print (func())\n",
    "    \n",
    "other(hello)"
   ]
  },
  {
   "cell_type": "code",
   "execution_count": 3,
   "metadata": {
    "collapsed": false
   },
   "outputs": [
    {
     "name": "stdout",
     "output_type": "stream",
     "text": [
      "This function needs a decorator!\n"
     ]
    }
   ],
   "source": [
    "def new_decorator(func):\n",
    "    def wrap_func():\n",
    "        print('Code here before executing the func()')\n",
    "        \n",
    "        func()\n",
    "        \n",
    "        print('Code here will execute after the func()')\n",
    "    \n",
    "    return wrap_func\n",
    "\n",
    "def func_needs_decorator():\n",
    "    print('This function needs a decorator!')\n",
    "\n",
    "func_needs_decorator()"
   ]
  },
  {
   "cell_type": "code",
   "execution_count": 4,
   "metadata": {
    "collapsed": false
   },
   "outputs": [
    {
     "name": "stdout",
     "output_type": "stream",
     "text": [
      "Code here before executing the func()\n",
      "This function needs a decorator!\n",
      "Code here will execute after the func()\n"
     ]
    }
   ],
   "source": [
    "func_needs_decorator = new_decorator(func_needs_decorator)\n",
    "func_needs_decorator()"
   ]
  },
  {
   "cell_type": "code",
   "execution_count": 10,
   "metadata": {
    "collapsed": false
   },
   "outputs": [
    {
     "name": "stdout",
     "output_type": "stream",
     "text": [
      "Code here before executing the func()\n",
      "This function needs a decorator!\n",
      "Code here will execute after the func()\n"
     ]
    }
   ],
   "source": [
    "@new_decorator\n",
    "def func_needs_decorator_():\n",
    "    print('This function needs a decorator!')\n",
    "\n",
    "func_needs_decorator_()"
   ]
  },
  {
   "cell_type": "code",
   "execution_count": null,
   "metadata": {
    "collapsed": false
   },
   "outputs": [],
   "source": []
  },
  {
   "cell_type": "code",
   "execution_count": null,
   "metadata": {
    "collapsed": true
   },
   "outputs": [],
   "source": []
  }
 ],
 "metadata": {
  "kernelspec": {
   "display_name": "Python 3",
   "language": "python",
   "name": "python3"
  },
  "language_info": {
   "codemirror_mode": {
    "name": "ipython",
    "version": 3
   },
   "file_extension": ".py",
   "mimetype": "text/x-python",
   "name": "python",
   "nbconvert_exporter": "python",
   "pygments_lexer": "ipython3",
   "version": "3.6.0"
  }
 },
 "nbformat": 4,
 "nbformat_minor": 2
}
