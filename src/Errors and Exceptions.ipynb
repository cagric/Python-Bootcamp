{
 "cells": [
  {
   "cell_type": "code",
   "execution_count": 1,
   "metadata": {
    "collapsed": false
   },
   "outputs": [
    {
     "name": "stdout",
     "output_type": "stream",
     "text": [
      "There was an error!\n",
      "Finally was printed\n"
     ]
    }
   ],
   "source": [
    "try:\n",
    "    2+'s'\n",
    "except:\n",
    "    print('There was an error!')\n",
    "finally:\n",
    "    print('Finally this was printed')"
   ]
  },
  {
   "cell_type": "code",
   "execution_count": 5,
   "metadata": {
    "collapsed": false
   },
   "outputs": [
    {
     "name": "stdout",
     "output_type": "stream",
     "text": [
      "Error while writing to the file\n"
     ]
    }
   ],
   "source": [
    "try:\n",
    "    f = open('testfile.txt','r')\n",
    "    f.write('Test write this')\n",
    "except:\n",
    "    print('Error while writing to the file')\n",
    "else :\n",
    "    print('File write was succesfull')"
   ]
  },
  {
   "cell_type": "code",
   "execution_count": 14,
   "metadata": {
    "collapsed": false
   },
   "outputs": [
    {
     "name": "stdout",
     "output_type": "stream",
     "text": [
      "Please enter an integer:dfsd\n",
      "You did not enter an integer, invalid literal for int() with base 10: 'dfsd'\n",
      "Finally block\n"
     ]
    }
   ],
   "source": [
    "def ask_int():\n",
    "    try:\n",
    "        val = int(input('Please enter an integer:'))\n",
    "    except Exception as e:\n",
    "        print('You did not enter an integer, {e}'.format(e=e))\n",
    "    finally:\n",
    "        print('Finally block')\n",
    "    #print(val)\n",
    "\n",
    "ask_int()"
   ]
  },
  {
   "cell_type": "code",
   "execution_count": null,
   "metadata": {
    "collapsed": true
   },
   "outputs": [],
   "source": [
    "12\n"
   ]
  }
 ],
 "metadata": {
  "kernelspec": {
   "display_name": "Python 3",
   "language": "python",
   "name": "python3"
  },
  "language_info": {
   "codemirror_mode": {
    "name": "ipython",
    "version": 3
   },
   "file_extension": ".py",
   "mimetype": "text/x-python",
   "name": "python",
   "nbconvert_exporter": "python",
   "pygments_lexer": "ipython3",
   "version": "3.6.0"
  }
 },
 "nbformat": 4,
 "nbformat_minor": 2
}
