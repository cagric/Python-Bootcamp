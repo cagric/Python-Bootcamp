{
 "cells": [
  {
   "cell_type": "code",
   "execution_count": null,
   "metadata": {
    "collapsed": false
   },
   "outputs": [],
   "source": [
    "# Specifically for the iPython Notebook environment for clearing output.\n",
    "from IPython.display import clear_output\n",
    "\n",
    "points = [[0 for x in range(3)] for y in range(3)] \n",
    "\n",
    "def check():\n",
    "    pass\n",
    "\n",
    "def draw_board():\n",
    "    clear_output()\n",
    "    pass\n",
    "\n",
    "def get_input(player):\n",
    "    move = input('Movement for {p} Ex: 1,2'.format(p=player))\n",
    "    return move\n",
    "    \n",
    "def play_game():\n",
    "    i=0\n",
    "    player = False\n",
    "    while i<5:\n",
    "        point = get_input(player)\n",
    "        draw_board()\n",
    "        print(player)\n",
    "        print(point)\n",
    "        player = !player\n",
    "        i+=1\n",
    "    pass\n",
    "    \n",
    "play_game()"
   ]
  },
  {
   "cell_type": "code",
   "execution_count": null,
   "metadata": {
    "collapsed": true
   },
   "outputs": [],
   "source": []
  }
 ],
 "metadata": {
  "kernelspec": {
   "display_name": "Python 3",
   "language": "python",
   "name": "python3"
  },
  "language_info": {
   "codemirror_mode": {
    "name": "ipython",
    "version": 3
   },
   "file_extension": ".py",
   "mimetype": "text/x-python",
   "name": "python",
   "nbconvert_exporter": "python",
   "pygments_lexer": "ipython3",
   "version": "3.6.0"
  }
 },
 "nbformat": 4,
 "nbformat_minor": 2
}
